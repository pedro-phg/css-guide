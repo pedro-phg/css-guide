{
  "nbformat": 4,
  "nbformat_minor": 0,
  "metadata": {
    "colab": {
      "provenance": [],
      "collapsed_sections": [],
      "authorship_tag": "ABX9TyPTw8/dE9kkWAYQmQXZ3EjB",
      "include_colab_link": true
    },
    "kernelspec": {
      "name": "python3",
      "display_name": "Python 3"
    },
    "language_info": {
      "name": "python"
    }
  },
  "cells": [
    {
      "cell_type": "markdown",
      "metadata": {
        "id": "view-in-github",
        "colab_type": "text"
      },
      "source": [
        "<a href=\"https://colab.research.google.com/github/pedro-phg/dev-guide/blob/main/Laborat%C3%B3rio_03.ipynb\" target=\"_parent\"><img src=\"https://colab.research.google.com/assets/colab-badge.svg\" alt=\"Open In Colab\"/></a>"
      ]
    },
    {
      "cell_type": "markdown",
      "source": [
        "# Laboratório 03 \n",
        "\n",
        "**Nome:** Pedro Henrique Gonçalves Adalberto\n",
        "**RA:** 11201921359"
      ],
      "metadata": {
        "id": "QvpsajcREswo"
      }
    },
    {
      "cell_type": "markdown",
      "source": [
        "# Importação das bibliotecas"
      ],
      "metadata": {
        "id": "ee9W7napE1_7"
      }
    },
    {
      "cell_type": "code",
      "execution_count": null,
      "metadata": {
        "id": "i3vjF4xVNF9Z"
      },
      "outputs": [],
      "source": [
        "import numpy as np\n",
        "import matplotlib.pyplot as plt\n",
        "plt.style.use('ggplot')"
      ]
    },
    {
      "cell_type": "markdown",
      "source": [
        "# Definição das Funções"
      ],
      "metadata": {
        "id": "ESNtia6kE3un"
      }
    },
    {
      "cell_type": "code",
      "source": [
        "def el_dof2(iel, nnel, ndof):\n",
        "  edof = nnel * ndof\n",
        "  start = (iel-1) * (nnel-1) * ndof\n",
        "\n",
        "  index = np.zeros(edof)\n",
        "\n",
        "  for i in range(edof):\n",
        "    index[i] = start + i + 1\n",
        "  \n",
        "  return index\n",
        "\n",
        "def matrix_el2(acoef, bcoef, ccoef, elong):\n",
        "  a1 = -(acoef/elong); a2=bcoef/2; a3=ccoef*elong/6\n",
        "  k = np.array([[a1-a2+2*a3, -a1+a2+a3], \n",
        "                [-a1-a2+a3, a1+a2+2*a3]])\n",
        "  return k\n",
        "\n",
        "def vec_el2(x1, xr):\n",
        "  h = xr - x1;\n",
        "  f = np.array([h/2, h/2])\n",
        "  return f\n",
        "\n",
        "def constraint2(kk, ff, bcdof, bcval):\n",
        "  n = len(bcdof)\n",
        "  sdof = kk.shape[0]\n",
        "\n",
        "  for i in range(n):\n",
        "    c = int(bcdof[i])\n",
        "    \n",
        "    for j in range(sdof):\n",
        "      kk[c, j] = 0;\n",
        "\n",
        "    kk[c, c] = 1\n",
        "    ff[c] = bcval[i]\n",
        "\n",
        "  return kk, ff\n",
        "\n",
        "def assemble2(kk, ff, k, f, index):\n",
        "  edof = len(index)\n",
        "\n",
        "  for i in range(edof):\n",
        "    ii = int(index[i])\n",
        "    ff[ii] = ff[ii] + f[i]\n",
        "\n",
        "    for j in range(edof):\n",
        "      jj = int(index[j])\n",
        "      kk[ii, jj] = kk[ii, jj] + k[i, j]\n",
        "\n",
        "  return kk, ff"
      ],
      "metadata": {
        "id": "-QQwd--ARfYH"
      },
      "execution_count": null,
      "outputs": []
    },
    {
      "cell_type": "markdown",
      "source": [
        "# Definição da função para iterar\n",
        "\n",
        "Resumidamente necessitamos de uma função que receba o número de elementos e retorne os valores da solução exata e da solução numérica encontrada. Essa função é definida abaixo como *function_to_interate* e recebe dois argumentos: o número de elementos (*numberOfElements*) e uma *booleano* para plotar ou não o gráfico. "
      ],
      "metadata": {
        "id": "aATAtvC7E_vK"
      }
    },
    {
      "cell_type": "code",
      "source": [
        "def function_to_iterate(numberOfElements = 1, plot=False):\n",
        "\n",
        "  acoef = 1; bcoef = -3; ccoef = 2\n",
        "\n",
        "  nel = numberOfElements #número de elementos\n",
        "  nnel = 2 #número de nós por elemento\n",
        "  ndof = 1 #número de graus de liberdade por nó\n",
        "\n",
        "  L = 1 #comprimento do domínio da simulação\n",
        "  gcoord = np.linspace(0, L, nel+1) #coordenadas dos nós\n",
        "  nnode = len(gcoord) #número de nós\n",
        "  sdof = nnode *ndof #número de graus de liberdade do sistema\n",
        "\n",
        "  nodes = np.empty([nel, nel-1])\n",
        "\n",
        "  for i in range(0, nel):\n",
        "    nodes[i, 0] = int(i+1)\n",
        "    nodes[i, 1] = int(i + 2)\n",
        "\n",
        "  index = np.zeros(nnel*sdof)\n",
        "  ff = np.zeros(sdof)\n",
        "  kk = np.zeros([sdof, sdof])\n",
        "\n",
        "  for iel in range(nel):\n",
        "    nl = nodes[iel, 0]          # nodes dos elementos\n",
        "    nr = nodes[iel, 1]\n",
        "\n",
        "    xl = gcoord[int(nl-1)]               # coord. dos elementos\n",
        "    xr = gcoord[int(nr-1)]\n",
        "\n",
        "    h = xr - xl\n",
        "    index = el_dof2(iel, nnel, ndof)\n",
        "    k = matrix_el2(acoef, bcoef, ccoef, h)\n",
        "    f = vec_el2(xl, xr)\n",
        "\n",
        "    kk, ff = assemble2(kk, ff, k, f, index)\n",
        "    kkff = matrix = np.column_stack((kk, ff))\n",
        "\n",
        "\n",
        "  bcdof = np.array([0, nnode-1]); bcval = np.array([0, 0])\n",
        "\n",
        "  kk, ff = constraint2(kk, ff, bcdof, bcval)\n",
        "\n",
        "  kkff = matrix = np.column_stack((kk, ff))\n",
        "\n",
        "  fsol = np.linalg.solve(kk, ff)\n",
        "  #print(kkff)\n",
        "\n",
        "  c1 = 0.5/np.exp(L)\n",
        "  c2 = -0.5*(1+1/np.exp(L))\n",
        "\n",
        "  esol = np.zeros(nnode)\n",
        "\n",
        "  for i in range(nnode):\n",
        "    x = gcoord[i]\n",
        "    esol[i] = c1*np.exp(2*x)+c2*np.exp(x) + 1/2;\n",
        "\n",
        "  num = np.arange(1, nel + 2, 1)\n",
        "\n",
        "  #resultados = np.column_stack((num.T, fsol, esol.T))\n",
        "\n",
        "  X = np.linspace(0,L,100);\n",
        "  Y = c1*np.exp(2*X)+c2*np.exp(X) + 1/2;\n",
        "\n",
        "  if plot:\n",
        "    plt.plot(X, Y, label='Solução Exata')\n",
        "    plt.plot(gcoord, fsol, label = 'MEF')\n",
        "    #plt.fill(gcoord, fsol, alpha=0.2, where = y<=0)\n",
        "    plt.xlabel(\"x\")\n",
        "    plt.ylabel(\"u(x)\")\n",
        "    plt.title(\"Método dos Elementos Finitos\")\n",
        "    plt.legend()\n",
        "\n",
        "  return fsol, esol"
      ],
      "metadata": {
        "id": "fOJlqo8zNL17"
      },
      "execution_count": null,
      "outputs": []
    },
    {
      "cell_type": "markdown",
      "source": [
        "# Teste da Função\n",
        "\n",
        "Altere o valor do argumento *numberOfElements* e verifique o comportamento do gráfico"
      ],
      "metadata": {
        "id": "-vx-_aICFaqu"
      }
    },
    {
      "cell_type": "code",
      "source": [
        "solution, exact_solution = function_to_iterate(numberOfElements = 6, plot = True)"
      ],
      "metadata": {
        "colab": {
          "base_uri": "https://localhost:8080/",
          "height": 299
        },
        "id": "Fhjn9Rk7-H54",
        "outputId": "5733a5b0-7369-46e0-a4f0-f0812af65692"
      },
      "execution_count": null,
      "outputs": [
        {
          "output_type": "display_data",
          "data": {
            "text/plain": [
              "<Figure size 432x288 with 1 Axes>"
            ],
            "image/png": "[encoded data removed]"
          },
          "metadata": {}
        }
      ]
    },
    {
      "cell_type": "markdown",
      "source": [
        "# Definindo um critério para definir o número de elementos\n",
        "\n",
        "Seja **r** o vetor \"resto\" que contém o módulo da diferença entre o valor exato da solução e o valor numérico em cada ponto do domínio discretizado, pode-se estipular a quantidade de elementos ao determinamos uma *tolerância máxima* que desejamos que nossos resultados tenham. Em que:\n",
        "\n",
        "$$ \\vec{r}=\\left|x-x_c\\right| $$\n",
        "\n",
        "e\n",
        "\n",
        "$$tol\\ =\\ max(r)$$\n"
      ],
      "metadata": {
        "id": "zvl0tWKTFxg9"
      }
    },
    {
      "cell_type": "markdown",
      "source": [
        "# Definindo a função para retornar o número máximo de elementos"
      ],
      "metadata": {
        "id": "wwg7bdmsHY8J"
      }
    },
    {
      "cell_type": "code",
      "source": [
        "def minimalQuantityOfElements(tol = 10e-5):\n",
        "  error = 1\n",
        "  nelements = 3\n",
        "  while(error > tol):\n",
        "    solution, exact_solution = function_to_iterate(nelements)\n",
        "    error = np.max(np.abs(solution-exact_solution))\n",
        "    nelements += 1\n",
        "\n",
        "  print(\"Número de Elementos:\", nelements-1)\n",
        "  return nelements - 1"
      ],
      "metadata": {
        "id": "Z_f8h4h8HcgM"
      },
      "execution_count": null,
      "outputs": []
    },
    {
      "cell_type": "markdown",
      "source": [
        "# Testes"
      ],
      "metadata": {
        "id": "Vx8pWU92S3KO"
      }
    },
    {
      "cell_type": "code",
      "source": [
        "minimalQuantityOfElements(tol = 10e-5)\n",
        "minimalQuantityOfElements(tol = 10e-6)\n",
        "minimalQuantityOfElements(tol = 10e-7)"
      ],
      "metadata": {
        "colab": {
          "base_uri": "https://localhost:8080/"
        },
        "id": "JwNOkFyCS4d6",
        "outputId": "863ce1a9-c112-4183-9610-3f9b02b9024c"
      },
      "execution_count": null,
      "outputs": [
        {
          "output_type": "stream",
          "name": "stdout",
          "text": [
            "Número de Elementos: 29\n",
            "Número de Elementos: 92\n",
            "Número de Elementos: 289\n"
          ]
        },
        {
          "output_type": "execute_result",
          "data": {
            "text/plain": [
              "289"
            ]
          },
          "metadata": {},
          "execution_count": 25
        }
      ]
    }
  ]
}